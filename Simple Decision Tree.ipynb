{
 "cells": [
  {
   "cell_type": "markdown",
   "metadata": {},
   "source": [
    "# Single Model (Decision Tree) with Label Encoding"
   ]
  },
  {
   "cell_type": "markdown",
   "metadata": {},
   "source": [
    "### Training"
   ]
  },
  {
   "cell_type": "code",
   "execution_count": 3,
   "metadata": {
    "collapsed": true
   },
   "outputs": [],
   "source": [
    "import pandas as pd\n",
    "import numpy as np\n",
    "import matplotlib.pyplot as plt\n",
    "from sklearn.metrics import mean_squared_log_error,mean_squared_error\n",
    "from sklearn.preprocessing import OneHotEncoder,LabelEncoder\n",
    "from sklearn.model_selection import train_test_split\n",
    "from sklearn.tree import DecisionTreeRegressor\n",
    "%matplotlib inline "
   ]
  },
  {
   "cell_type": "code",
   "execution_count": 4,
   "metadata": {
    "collapsed": true
   },
   "outputs": [],
   "source": [
    "train = pd.read_csv('data download/train.tsv',sep = '\\t')\n",
    "test = pd.read_csv('data download/test.tsv',sep = '\\t')"
   ]
  },
  {
   "cell_type": "code",
   "execution_count": 5,
   "metadata": {
    "collapsed": true
   },
   "outputs": [],
   "source": [
    "X_data = train.drop(['price','train_id','item_description'],axis = 1)\n",
    "y_data = train['price']\n",
    "X_data['category_name'] = X_data['category_name'].fillna(value='not_decided')\n",
    "X_data['brand_name'] = X_data['brand_name'].fillna(value='unknown')"
   ]
  },
  {
   "cell_type": "code",
   "execution_count": 6,
   "metadata": {
    "collapsed": true
   },
   "outputs": [],
   "source": [
    "cat_label = LabelEncoder().fit_transform(X_data['category_name'])\n",
    "brand_label = LabelEncoder().fit_transform(X_data['brand_name'])"
   ]
  },
  {
   "cell_type": "code",
   "execution_count": 7,
   "metadata": {
    "collapsed": true
   },
   "outputs": [],
   "source": [
    "X_data['cat_label'] = cat_label\n",
    "X_data['brand_label'] = brand_label\n",
    "X_data = X_data.drop(['name','category_name','brand_name'],axis = 1)"
   ]
  },
  {
   "cell_type": "code",
   "execution_count": 9,
   "metadata": {
    "collapsed": true
   },
   "outputs": [],
   "source": [
    "X_train,X_valid,y_train,y_valid = train_test_split(X_data,y_data,test_size = 0.2,random_state = 2)"
   ]
  },
  {
   "cell_type": "code",
   "execution_count": 12,
   "metadata": {},
   "outputs": [
    {
     "name": "stdout",
     "output_type": "stream",
     "text": [
      "Train score: 0.5951873136254393\n"
     ]
    }
   ],
   "source": [
    "dt = DecisionTreeRegressor(min_samples_leaf=9).fit(X_train,y_train)\n",
    "y_pred = dt.predict(X_valid)\n",
    "train_score = np.sqrt(mean_squared_log_error(y_valid,y_pred))\n",
    "print('Train score: {}'.format(train_score))"
   ]
  },
  {
   "cell_type": "code",
   "execution_count": 13,
   "metadata": {},
   "outputs": [
    {
     "name": "stdout",
     "output_type": "stream",
     "text": [
      "Valid score: 0.5794676821235564\n"
     ]
    }
   ],
   "source": [
    "y_pred_train = dt.predict(X_train)\n",
    "valid_score = np.sqrt(mean_squared_log_error(y_train,y_pred_train))\n",
    "print('Valid score: {}'.format(valid_score))"
   ]
  },
  {
   "cell_type": "code",
   "execution_count": null,
   "metadata": {
    "collapsed": true
   },
   "outputs": [],
   "source": []
  },
  {
   "cell_type": "markdown",
   "metadata": {},
   "source": [
    "### Submission"
   ]
  },
  {
   "cell_type": "code",
   "execution_count": 14,
   "metadata": {
    "collapsed": true
   },
   "outputs": [],
   "source": [
    "X_train = train.drop(['train_id','price','item_description'],axis = 1)\n",
    "y_train = train['price']\n",
    "X_test = test.drop(['test_id','item_description'],axis = 1)"
   ]
  },
  {
   "cell_type": "code",
   "execution_count": 16,
   "metadata": {
    "collapsed": true
   },
   "outputs": [],
   "source": [
    "X_all = pd.concat([X_train,X_test],axis = 0)\n",
    "X_all['category_name'] = X_all['category_name'].fillna(value='not_decided')\n",
    "X_all['brand_name'] = X_all['brand_name'].fillna(value='unknown')"
   ]
  },
  {
   "cell_type": "code",
   "execution_count": 17,
   "metadata": {
    "collapsed": true
   },
   "outputs": [],
   "source": [
    "cat_label = LabelEncoder().fit_transform(X_all['category_name'])\n",
    "brand_label = LabelEncoder().fit_transform(X_all['brand_name'])\n",
    "X_all['cat_label'] = cat_label\n",
    "X_all['brand_label'] = brand_label\n",
    "X_all = X_all.drop(['name','category_name','brand_name'],axis = 1)"
   ]
  },
  {
   "cell_type": "code",
   "execution_count": 19,
   "metadata": {
    "collapsed": true
   },
   "outputs": [],
   "source": [
    "X_train_labeled = X_all.iloc[:X_train.shape[0],:]\n",
    "X_test_labeled = X_all.iloc[X_train.shape[0]:,:]"
   ]
  },
  {
   "cell_type": "code",
   "execution_count": 20,
   "metadata": {},
   "outputs": [
    {
     "name": "stderr",
     "output_type": "stream",
     "text": [
      "//anaconda/lib/python3.5/site-packages/ipykernel/__main__.py:4: SettingWithCopyWarning: \n",
      "A value is trying to be set on a copy of a slice from a DataFrame.\n",
      "Try using .loc[row_indexer,col_indexer] = value instead\n",
      "\n",
      "See the caveats in the documentation: http://pandas.pydata.org/pandas-docs/stable/indexing.html#indexing-view-versus-copy\n"
     ]
    }
   ],
   "source": [
    "dt = DecisionTreeRegressor(min_samples_leaf=9).fit(X_train_labeled,y_train)\n",
    "preds = dt.predict(X_test_labeled)\n",
    "sub = test[['test_id']]\n",
    "sub['price'] = preds\n",
    "sub.to_csv('submission.csv',index = False)"
   ]
  },
  {
   "cell_type": "code",
   "execution_count": null,
   "metadata": {},
   "outputs": [],
   "source": []
  },
  {
   "cell_type": "code",
   "execution_count": null,
   "metadata": {
    "collapsed": true
   },
   "outputs": [],
   "source": []
  }
 ],
 "metadata": {
  "anaconda-cloud": {},
  "kernelspec": {
   "display_name": "Python [default]",
   "language": "python",
   "name": "python3"
  },
  "language_info": {
   "codemirror_mode": {
    "name": "ipython",
    "version": 3
   },
   "file_extension": ".py",
   "mimetype": "text/x-python",
   "name": "python",
   "nbconvert_exporter": "python",
   "pygments_lexer": "ipython3",
   "version": "3.5.4"
  }
 },
 "nbformat": 4,
 "nbformat_minor": 1
}
